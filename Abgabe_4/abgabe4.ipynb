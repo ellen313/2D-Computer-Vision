{
 "cells": [
  {
   "cell_type": "markdown",
   "id": "10943d84",
   "metadata": {},
   "source": [
    "# Abgabe 4 "
   ]
  },
  {
   "cell_type": "markdown",
   "id": "61bdb31e",
   "metadata": {},
   "source": [
    "2. Aufgabe\n",
    "\n",
    "a) Was ist eine Kante und wie ist sie im Bild, in dessen Ableitung erkennbar?\n",
    "- Eine Kante ist eine Stelle im Bild, an der die Helligkeit schnell von einem Bereich zu einem anderen übergeht\n",
    "- In der Bildableitung erkennt man sie durch den Gradienten (Intensitätsänderungen)\n",
    "- Hohe Gradientenwerte --> starke Änderungen = Kanten entsprechen\n",
    "- Gradient ist in der ersten udn zweiten Ableitung zu erkennen\n",
    "\n",
    "b) Was sind die partiellen Ableitungen eines Bildes? Was sagen sie aus?\n",
    "- Diese messen die Änderung der Helligkeit (Intensität) entlang der horizontalen und vertikalen Achse\n",
    "- partielle Ableitungen x-Richtung --> Intensitätsänderungen links nach rechts \n",
    "- partielle Ableitungen y-Richtung --> Intensitätsänderungen oben nach unten\n",
    "- sagen aus, wie stark und in welcher Richtung sich die Bildintensitäten ändern\n",
    "- Hohe Werte --> starke Helligkeitsänderungen = Kanten\n",
    "- nahe 0 --> keine Helligkeitsänderungen = keine Kanten\n",
    "- Identifikation von Kanten und Strukturen in einem Bild\n",
    "\n",
    "c) Was ist der Gradientenvektor (kurz: Gradient) eines Bildes?\n",
    "- ein Vektor, der die Richtung und Stärke der größten Intensitätsänderung in einem Bild anzeigt\n",
    "- setzt sich aus den partiellen Ableitungen des Bildes in der x- und y-Richtung zusammen \n",
    "\n",
    "∇I(u,v)= [ ∂I/∂u(u, v), ∂I/∂v(u, v)]\n",
    "\n",
    "d) Wie kann die Kantenstärke berechnet werden?\n",
    "- Kantenstärke E(u,v) an einem Punkt wird als Betrag des Gradientenvektors berechnet:\n",
    "\n",
    "  E(u,v)= √(Dx(u,v))^2 + (Dy(u,v))^2\n",
    "\n",
    "e) Wie kann die lokale Kantenrichtung berechnet werden?\n",
    "- lokale Kantenrichtung an einem Punkt im Bild wird durch den Winkel des Gradientenvektors bestimmt:\n",
    "Φ(x,y)= invtan( Dx(u,v), Dy(u,v))"
   ]
  }
 ],
 "metadata": {
  "language_info": {
   "name": "python"
  }
 },
 "nbformat": 4,
 "nbformat_minor": 5
}
