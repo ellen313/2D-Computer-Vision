{
 "cells": [
  {
   "cell_type": "code",
   "execution_count": 3,
   "id": "f31d6a0b",
   "metadata": {},
   "outputs": [],
   "source": [
    "import numpy as np\n",
    "from skimage import io\n",
    "import matplotlib.pyplot as plt\n",
    "import math"
   ]
  },
  {
   "cell_type": "markdown",
   "id": "cf2e8b9a",
   "metadata": {},
   "source": [
    "## Aufgabe 2/3"
   ]
  },
  {
   "cell_type": "code",
   "execution_count": null,
   "id": "e494d7da",
   "metadata": {},
   "outputs": [
    {
     "data": {
      "text/plain": [
       "(-0.5, 99.5, 99.5, -0.5)"
      ]
     },
     "execution_count": 26,
     "metadata": {},
     "output_type": "execute_result"
    },
    {
     "data": {
      "image/png": "[encoded data removed]",
      "text/plain": [
       "<Figure size 1200x400 with 1 Axes>"
      ]
     },
     "metadata": {},
     "output_type": "display_data"
    }
   ],
   "source": [
    "img = io.imread(\"noisy-lines.tif\")\n",
    "\n",
    "def rgb_2_gray(img, mode='lut'):\n",
    "    if img.ndim == 2:\n",
    "        # Bild ist schon in grayscale\n",
    "        return img\n",
    "    elif img.ndim == 3:\n",
    "        if mode == 'lut':\n",
    "            return np.round(img[:,:,0] * 0.2126 + img[:,:,1] * 0.7152 + img[:,:,2] * 0.0722)\n",
    "        else:\n",
    "            return np.round(img[:,:,0] * 0.2126 + img[:,:,1] * 0.587 + img[:,:,2] * 0.114)\n",
    "\n",
    "# binarisieren\n",
    "def sobel(img, filter):\n",
    "    height, width = img.shape\n",
    "    filter_h, filter_w = filter.shape\n",
    "\n",
    "    s = 1.0 if np.sum(filter) == 0 else 1.0 / np.sum(filter)\n",
    "\n",
    "    # filter matrix (2K+1)×(2L+1) (radius)\n",
    "    K = filter_w // 2\n",
    "    L = filter_h // 2\n",
    "\n",
    "    filtered_img = np.zeros((height - 2 * K, width - 2 * L))\n",
    "\n",
    "    for v in range(L, height - L):  #über Zeilen\n",
    "        for u in range(K, width - K):  #über Spalten\n",
    "            value = 0.0\n",
    "            for j in range(-L, L + 1):  #über Filterzeilen\n",
    "                for i in range(-K, K + 1):  #über Filterspalten\n",
    "                    value += img[v + j, u + i] * filter[j + L , i + K]\n",
    "            filtered_img[v - L , u - K] = s * value\n",
    "\n",
    "    filtered_img = np.clip(filtered_img, 0, 255).astype(np.uint8)\n",
    "\n",
    "    return filtered_img\n",
    "\n",
    "filter_x = np.array([[ -1,  0,  1],\n",
    "                     [ -2,  0,  2],\n",
    "                     [ -1,  0, 1]])\n",
    "\n",
    "filter_y = np.array([[ -1, -2, -1],\n",
    "                     [  0,  0, 0],\n",
    "                     [  1,  2, 1]])\n",
    "\n",
    "gray = rgb_2_gray(img)\n",
    "edges_x = sobel(gray, filter_x)\n",
    "edges_y = sobel(gray, filter_y)\n",
    "edges = np.hypot(edges_x, edges_y)\n",
    "binary_image = (edges > 50).astype(np.uint8)  # Schwellenwert \n",
    "\n",
    "# Hough-Transformation\n",
    "def linearHT(im_edge, angle_steps, radius_stepsize):\n",
    "    height, width = im_edge.shape\n",
    "    x_ctr = width // 2\n",
    "    y_ctr = height // 2\n",
    "\n",
    "    nAng = angle_steps\n",
    "    dAng = math.pi / nAng\n",
    "\n",
    "    nRad = radius_stepsize\n",
    "    r_max = math.hypot(x_ctr, y_ctr)\n",
    "    dRad = (2*r_max) / nRad\n",
    "\n",
    "    hough_array = np.zeros((nAng, nRad), dtype=int)\n",
    "\n",
    "\n",
    "    # Begüm my guy passt der Schwellwert so?\n",
    "    threshold_rate = 0.85\n",
    "\n",
    "    # Hough-Akkumulator\n",
    "    for v in range(height):\n",
    "        for u in range(width):\n",
    "            if im_edge[v,u] > 0:  # nur Kantenpixel berücksichtigen\n",
    "                # vom Mittelpunkt berechnen (macht HT symmetrischer)\n",
    "                x = u-x_ctr\n",
    "                y = v-y_ctr\n",
    "                for a in range(nAng):\n",
    "                    theta = dAng * a  # aktuellen Winkel 𝜃 berechnen\n",
    "                    r = (x*math.cos(theta) + y*math.sin(theta)) / dRad  # Hesse'sche NF\n",
    "                    r_idx = int(round(r+nRad/2))  # in pos Bereich verschieben\n",
    "                    if 0 <= r_idx < nRad:\n",
    "                        # Gerade wird von weiterem Kantenpunkt unterstützt (mit gleichem Winkel und Radius)\n",
    "                        hough_array[a, r_idx] += 1\n",
    "\n",
    "\n",
    "    # Schwellwertoperation\n",
    "    max_value = np.max(hough_array)\n",
    "    threshold = max_value*threshold_rate\n",
    "    hough_array[hough_array < threshold] = 0\n",
    "\n",
    "    return hough_array\n",
    "\n",
    "\n",
    "houghArray = linearHT(binary_image, 100, 100)\n",
    "\n",
    "plt.figure(figsize=(12, 4))\n",
    "plt.title(\"Hough-Transformation (mit Schwellwert)\")\n",
    "plt.imshow(houghArray)\n",
    "plt.axis('off')\n"
   ]
  },
  {
   "cell_type": "markdown",
   "id": "84f9e818",
   "metadata": {},
   "source": [
    "## Aufgabe 4\n",
    " a) Wie können die Kanten im ursprünglichem Bild mit dieser Schwelloperation ermittelt werden?\n",
    "- die Schwellwertopertion filtert starke Kantenverläufe -> stark Kanten können so im Bild hervorgehoben werden\n",
    "b) Welches sind die dominierendsten (längsten) Kanten?\n",
    "- die, die nach dem Setzen des Schwellwerts noch existieren\n",
    " c) Anstelle der Schwelloperation könnte auch die Methode der Non-Maximum Suppression verwendet werden, um die Punkte im HoughArray detektieren zu können. Beschreiben Sie diese Methode kurz.\n",
    " - durch sie findet man lokale Maxima im Akkumulator-Array durch die Unterdrückung nicht aller maximaler Werte auf.\n",
    " -> es wird Zellenweise festgestellt, ob der Wert höher ist als die Werte aller Nachbarzellen (bestehender Wert wird beibehalten)"
   ]
  }
 ],
 "metadata": {
  "kernelspec": {
   "display_name": "Python 3",
   "language": "python",
   "name": "python3"
  },
  "language_info": {
   "codemirror_mode": {
    "name": "ipython",
    "version": 3
   },
   "file_extension": ".py",
   "mimetype": "text/x-python",
   "name": "python",
   "nbconvert_exporter": "python",
   "pygments_lexer": "ipython3",
   "version": "3.12.10"
  }
 },
 "nbformat": 4,
 "nbformat_minor": 5
}
