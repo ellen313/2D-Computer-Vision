{
 "cells": [
  {
   "cell_type": "markdown",
   "id": "df256f89",
   "metadata": {},
   "source": [
    "# Abgabe 6"
   ]
  },
  {
   "cell_type": "code",
   "execution_count": null,
   "id": "cea6ce28",
   "metadata": {},
   "outputs": [],
   "source": [
    "import numpy as np\n",
    "from skimage import io \n",
    "import matplotlib.pyplot as plt"
   ]
  },
  {
   "cell_type": "markdown",
   "id": "19300985",
   "metadata": {},
   "source": [
    "2. morphologischen Operationen - Erode und Dilate"
   ]
  },
  {
   "cell_type": "code",
   "execution_count": null,
   "id": "2b45cd5a",
   "metadata": {},
   "outputs": [],
   "source": [
    "# Werte zwischen 0.0 - 1.0 oder 0 - 255 \n",
    "def invert(img):\n",
    "    return 1.0 - img if img.max() <= 1.0 else 255 - img \n",
    "\n",
    "\n",
    "def dilate(in_image, filter, iter_num):\n",
    "    img_array = in_image.astype(np.float32)\n",
    "    filter_h, filter_w =  filter.shape\n",
    "\n",
    "    ic = (filter_h - 1) // 2\n",
    "    jc =  (filter_w - 1) // 2\n",
    "\n",
    "    for _ in range(iter_num):\n",
    "        result = np.zeros_like(img)\n",
    "\n",
    "        for j in range(filter_h): \n",
    "            for i in range(filter_w):\n",
    "                if filter[j][i] == 1: #pixel is set\n",
    "                    dx = i - ic #horizontal shift\n",
    "                    dy = j - jc #vertical shift\n",
    "\n",
    "                    for y in range(h):\n",
    "                        for x in range(w):\n",
    "                            ny = y + dy\n",
    "                            nx = x + dx\n",
    "                            if 0 <= ny < h and 0 <= nx < w:\n",
    "                                result[y, x] = max(result[y, x], img[ny, nx]) #max grey value \n",
    "        \n",
    "        img = result.copy()\n",
    "    return img \n",
    "\n",
    "\n",
    "def erode(in_image, filter, iter_num):\n",
    "    img = in_image.astype(np.float32)\n",
    "    img = invert(img)\n",
    "    img = dilate(img, filter, iter_num) #dilates the background\n",
    "    img = invert(img)\n",
    "\n"
   ]
  }
 ],
 "metadata": {
  "language_info": {
   "name": "python"
  }
 },
 "nbformat": 4,
 "nbformat_minor": 5
}
