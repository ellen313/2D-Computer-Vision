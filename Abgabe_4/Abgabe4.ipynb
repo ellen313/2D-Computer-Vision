{
 "cells": [
  {
   "cell_type": "markdown",
   "id": "aaeac2f9",
   "metadata": {},
   "source": [
    " ## Aufgabe 2\n",
    " \n",
    " a) Was ist eine Kante und wie ist sie im Bild, in dessen Ableitung erkennbar?\n",
    " - Orte im Bild, an denen\n",
    " sich die Intensität auf kleinem Raum und entlang einer ausgeprägten\n",
    " Richtung stark ändert\n",
    " - In 1. Ableitung erkennbar als Maximum der Ableitungsfunktion\n",
    " - In 2. Ableitung wo der Wert 0 ist\n",
    "\n",
    " b) Was sind die partiellen Ableitungen eines Bildes? Was sagen sie aus?\n",
    " - Ableitungen einer mehrdimensionalen Funktion entlang einer der Koordinatenrichtungen\n",
    " - Änderung der Helligkeit horizontal\n",
    " - Änderung der Helligkeit vertikal\n",
    " - Sie geben an, wie stark und in welcher Richtung sich die Intensität ändert\n",
    "\n",
    " c) Was ist der Gradientenvektor (kurz: Gradient) eines Bildes?\n",
    " - Ein Vektor aus den partiellen Ableitungen\n",
    " - Zeigt Richtung der stärksten Helligkeitszunahme im Bild \n",
    "\n",
    " d) Wie kann die Kantenstarke berechnet werden?\n",
    " - Betrag des Gradienten\n",
    " E(u,v) = sqrt((Dx(u,v))^2 + (Dy(u,v))^2)\n",
    " - je größer Betrag, desto stärker die Kante\n",
    "\n",
    " e) Wie kann die lokale Kantenrichtung berechnet werden?\n",
    " - Winkel: Φ(u,v) = tan^-1 (Dy(u,v)/Dx(u,v))\n",
    " - Gibt an in welcher Richtung sich die Intensität am stärksten ändert\n"
   ]
  }
 ],
 "metadata": {
  "language_info": {
   "name": "python"
  }
 },
 "nbformat": 4,
 "nbformat_minor": 5
}
